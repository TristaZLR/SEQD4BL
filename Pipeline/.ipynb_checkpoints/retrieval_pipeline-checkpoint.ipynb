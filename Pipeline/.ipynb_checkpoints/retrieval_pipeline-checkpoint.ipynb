{
 "cells": [
  {
   "cell_type": "code",
   "execution_count": 1,
   "id": "fd19fb57",
   "metadata": {
    "collapsed": true,
    "jupyter": {
     "outputs_hidden": true
    },
    "tags": []
   },
   "outputs": [
    {
     "name": "stderr",
     "output_type": "stream",
     "text": [
      "[nltk_data] Downloading package stopwords to /home/jovyan/nltk_data...\n",
      "[nltk_data]   Package stopwords is already up-to-date!\n",
      "[nltk_data] Downloading package punkt to /home/jovyan/nltk_data...\n",
      "[nltk_data]   Package punkt is already up-to-date!\n"
     ]
    }
   ],
   "source": [
    "# you also need to start your local solr server\n",
    "# cd ~/your solr installation path/solr-9.0.0-SNAPSHOT/ && ./bin/solr start\n",
    "\n",
    "import sys,os,time,re,csv,string\n",
    "import pysolr\n",
    "import pandas as pd\n",
    "import numpy as np\n",
    "import math\n",
    "import nltk\n",
    "import torch\n",
    "from tqdm import tqdm\n",
    "from ast import literal_eval\n",
    "from datetime import datetime\n",
    "import nltk\n",
    "import torch\n",
    "nltk.download('stopwords')\n",
    "nltk.download('punkt')\n",
    "from nltk.corpus import stopwords\n",
    "stop = set(stopwords.words('english'))\n",
    "sys.path.append('../Evaluation/scripts/')"
   ]
  },
  {
   "cell_type": "code",
   "execution_count": 2,
   "id": "12b1b4e6",
   "metadata": {},
   "outputs": [
    {
     "name": "stderr",
     "output_type": "stream",
     "text": [
      "[nltk_data] Downloading package stopwords to /home/jovyan/nltk_data...\n",
      "[nltk_data]   Package stopwords is already up-to-date!\n",
      "[nltk_data] Downloading package punkt to /home/jovyan/nltk_data...\n",
      "[nltk_data]   Package punkt is already up-to-date!\n"
     ]
    },
    {
     "name": "stdout",
     "output_type": "stream",
     "text": [
      "We are using:  cpu\n"
     ]
    }
   ],
   "source": [
    "from solrclient import *\n",
    "from cal_features import *\n",
    "from runeval import runeval"
   ]
  },
  {
   "cell_type": "code",
   "execution_count": 6,
   "id": "f5680de0",
   "metadata": {},
   "outputs": [
    {
     "data": {
      "text/html": [
       "<div>\n",
       "<style scoped>\n",
       "    .dataframe tbody tr th:only-of-type {\n",
       "        vertical-align: middle;\n",
       "    }\n",
       "\n",
       "    .dataframe tbody tr th {\n",
       "        vertical-align: top;\n",
       "    }\n",
       "\n",
       "    .dataframe thead th {\n",
       "        text-align: right;\n",
       "    }\n",
       "</style>\n",
       "<table border=\"1\" class=\"dataframe\">\n",
       "  <thead>\n",
       "    <tr style=\"text-align: right;\">\n",
       "      <th></th>\n",
       "      <th>qnum</th>\n",
       "      <th>docid</th>\n",
       "      <th>url</th>\n",
       "      <th>title</th>\n",
       "      <th>desc</th>\n",
       "      <th>narr</th>\n",
       "      <th>subtopics</th>\n",
       "      <th>author</th>\n",
       "      <th>published_date</th>\n",
       "      <th>qcontent</th>\n",
       "      <th>Query</th>\n",
       "      <th>Key_Words</th>\n",
       "    </tr>\n",
       "  </thead>\n",
       "  <tbody>\n",
       "    <tr>\n",
       "      <th>0</th>\n",
       "      <td>Number: 936</td>\n",
       "      <td>f831cae6-bfa4-11e1-9ce8-ff26651238d0</td>\n",
       "      <td>https://www.washingtonpost.com/local/obituarie...</td>\n",
       "      <td>Nora Ephron dies at 71</td>\n",
       "      <td>I'm looking for information on the passing of ...</td>\n",
       "      <td>Please provide information as to when author a...</td>\n",
       "      <td>[\"Find details of Nora Ephron's life and accom...</td>\n",
       "      <td>Adam Bernstein</td>\n",
       "      <td>1.340756e+12</td>\n",
       "      <td>ObituariesNora Ephron, prolific author and scr...</td>\n",
       "      <td>{'when did she write heartburn', 'why did nora...</td>\n",
       "      <td>{'screenwriter', 'earliest years', 'new york',...</td>\n",
       "    </tr>\n",
       "  </tbody>\n",
       "</table>\n",
       "</div>"
      ],
      "text/plain": [
       "          qnum                                 docid  \\\n",
       "0  Number: 936  f831cae6-bfa4-11e1-9ce8-ff26651238d0   \n",
       "\n",
       "                                                 url                   title  \\\n",
       "0  https://www.washingtonpost.com/local/obituarie...  Nora Ephron dies at 71   \n",
       "\n",
       "                                                desc  \\\n",
       "0  I'm looking for information on the passing of ...   \n",
       "\n",
       "                                                narr  \\\n",
       "0  Please provide information as to when author a...   \n",
       "\n",
       "                                           subtopics          author  \\\n",
       "0  [\"Find details of Nora Ephron's life and accom...  Adam Bernstein   \n",
       "\n",
       "   published_date                                           qcontent  \\\n",
       "0    1.340756e+12  ObituariesNora Ephron, prolific author and scr...   \n",
       "\n",
       "                                               Query  \\\n",
       "0  {'when did she write heartburn', 'why did nora...   \n",
       "\n",
       "                                           Key_Words  \n",
       "0  {'screenwriter', 'earliest years', 'new york',...  "
      ]
     },
     "execution_count": 6,
     "metadata": {},
     "output_type": "execute_result"
    }
   ],
   "source": [
    "#read topic file\n",
    "topicfilepath = '../Data/Topic/trec2021/topicquery.csv'\n",
    "queries = pd.read_csv(topicfilepath)\n",
    "queries = queries.rename(columns={'num': 'qnum'})\n",
    "queries.head(1)"
   ]
  },
  {
   "cell_type": "code",
   "execution_count": 8,
   "id": "0b3fdf31",
   "metadata": {},
   "outputs": [],
   "source": [
    "def retrieval(resftp,queries,composition):\n",
    "    \n",
    "    # composition = 1, desc+title+kw+t5\n",
    "    # composition = 2, desc+title+t5\n",
    "    # composition = 3, desc+title+kw\n",
    "    # composition = 4, desc+title\n",
    "    # composition = 5, desc\n",
    "    \n",
    "    #search with Desc without the field kw,pdqueries\n",
    "    rows = 200\n",
    "    for i in range(len(queries)):\n",
    "        client = SolrClient(server_port='8983', server_core='WapoIRT5')\n",
    "        query = queries.loc[i,:]\n",
    "        \n",
    "        kwlist = getpredictquery(query['Key_Words'])\n",
    "        querylist = getpredictquery(query['Query'])\n",
    "        \n",
    "        if composition == 1:\n",
    "            querytext = query['desc']+query['title']+turnstring(kwlist)+turnstring(querylist)\n",
    "        elif composition == 2:\n",
    "            querytext = query['desc']+query['title']+turnstring(querylist)\n",
    "        elif composition == 3:    \n",
    "            querytext = query['desc']+query['title']+turnstring(kwlist)\n",
    "        elif composition == 4:\n",
    "            querytext = query['desc']+query['title']\n",
    "        elif composition == 5:\n",
    "            querytext = query['desc']\n",
    "        else:\n",
    "            print(\"Wrong Number. Please enter int number from 1-5.\")\n",
    "            return\n",
    "        \n",
    "        client.get_results(query,querytext,rows)\n",
    "        client.export_results(resftp + query['qnum'][-3:]+'.csv',rows)\n",
    "    print(\"Retrieval successed!\")"
   ]
  },
  {
   "cell_type": "code",
   "execution_count": 11,
   "id": "1ca64b8d",
   "metadata": {},
   "outputs": [
    {
     "name": "stdout",
     "output_type": "stream",
     "text": [
      "Retrieval successed!\n"
     ]
    }
   ],
   "source": [
    "#test\n",
    "resultpath = './result/IRexpanded_descTitleKey/'\n",
    "retrieval(resftp=resultpath, queries=queries, composition=3)"
   ]
  },
  {
   "cell_type": "code",
   "execution_count": null,
   "id": "f61104a5",
   "metadata": {},
   "outputs": [
    {
     "name": "stderr",
     "output_type": "stream",
     "text": [
      "  0%|          | 0/51 [00:00<?, ?it/s]"
     ]
    },
    {
     "name": "stdout",
     "output_type": "stream",
     "text": [
      "Calculating semantic features on 51 files\n"
     ]
    }
   ],
   "source": [
    "#rerank\n",
    "\n",
    "def semantic_rerank(resftp,featurepath,outputpath,rerankmethod=rerank_Freshness):\n",
    "    \n",
    "    #rerankmethod = rerank_Freshness/rerank_Title/rerank_Title_Fr\n",
    "    topicfilepath = '../Data/Topic/trec2021/clsquery.csv'\n",
    "    queries = pd.read_csv(topicfilepath)\n",
    "    files = os.listdir(resftp)\n",
    "    try:\n",
    "        files.remove('.ipynb_checkpoints')\n",
    "    except:\n",
    "        pass\n",
    "    \n",
    "    print(\"Calculating semantic features on %s files\"%len(files))\n",
    "    for file in tqdm(files):\n",
    "        temp = pd.read_csv(resftp+file)\n",
    "        features_df = cal_featues(df_queries=queries,df_result=temp)\n",
    "        features_df.to_csv(featurepath+file,index=False)\n",
    "    print(\"Re-ranking...\")\n",
    "    for file in tqdm(files):\n",
    "        temp = pd.read_csv(featurepath+file)\n",
    "        features_df = rerankmethod(temp)\n",
    "        features_df.to_csv(outputpath+file,index=False)\n",
    "    \n",
    "    print(\"Re-ranking Done!\")\n",
    "\n",
    "featurepath = './result/features/'\n",
    "outputpath = './result/reranked/'\n",
    "semantic_rerank(resultpath,featurepath,outputpath,rerankmethod=rerank_Freshness)"
   ]
  },
  {
   "cell_type": "code",
   "execution_count": null,
   "id": "bdf996ef",
   "metadata": {},
   "outputs": [],
   "source": [
    "# evaluation\n",
    "def evaluate(resfoldername,resftp):\n",
    "    resftp = './result/%s/'%(resfoldername)\n",
    "    #resftp = '/home/jovyan/playground/projects/TREC2021/NewsTrack/BaseLine/%s/'%(resfolder)\n",
    "    ExportRun(resftp,\"%s.csv\"%(resfoldername))\n",
    "    #runpath = '/home/jovyan/playground/projects/TREC2021/NewsTrack/BaseLine/%s.csv.gz'%(resfoldername)\n",
    "    runpath = './result/'+ '%s.csv.gz'%(resfoldername)\n",
    "    evalpath = '../Evaluation/res_topics/%s.trec_eval'%(resfoldername)\n",
    "    runeval(runpath,evalpath)\n",
    "\n",
    "    "
   ]
  }
 ],
 "metadata": {
  "kernelspec": {
   "display_name": "Python 3",
   "language": "python",
   "name": "python3"
  },
  "language_info": {
   "codemirror_mode": {
    "name": "ipython",
    "version": 3
   },
   "file_extension": ".py",
   "mimetype": "text/x-python",
   "name": "python",
   "nbconvert_exporter": "python",
   "pygments_lexer": "ipython3",
   "version": "3.8.8"
  }
 },
 "nbformat": 4,
 "nbformat_minor": 5
}
