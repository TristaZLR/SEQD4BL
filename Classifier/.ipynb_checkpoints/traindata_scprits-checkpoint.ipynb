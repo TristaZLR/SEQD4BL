{
 "cells": [
  {
   "cell_type": "markdown",
   "id": "d108affc",
   "metadata": {},
   "source": [
    "#### Make sure your solr sever is on\n",
    "#### Core of washington Post version 3 need to be indexed before"
   ]
  },
  {
   "cell_type": "code",
   "execution_count": 1,
   "id": "8e6291ad",
   "metadata": {
    "tags": []
   },
   "outputs": [
    {
     "name": "stderr",
     "output_type": "stream",
     "text": [
      "[nltk_data] Downloading package stopwords to /home/jovyan/nltk_data...\n",
      "[nltk_data]   Package stopwords is already up-to-date!\n",
      "[nltk_data] Downloading package punkt to /home/jovyan/nltk_data...\n",
      "[nltk_data]   Package punkt is already up-to-date!\n"
     ]
    }
   ],
   "source": [
    "import sys,os,time,re,csv,string\n",
    "import pysolr\n",
    "import pandas as pd\n",
    "import numpy as np\n",
    "import math\n",
    "import nltk\n",
    "import torch\n",
    "from tqdm import tqdm\n",
    "from ast import literal_eval\n",
    "from datetime import datetime\n",
    "import nltk\n",
    "import torch\n",
    "nltk.download('stopwords')\n",
    "nltk.download('punkt')\n",
    "from nltk.corpus import stopwords\n",
    "stop = set(stopwords.words('english'))\n",
    "sys.path.append('../Evaluation/scripts/')\n",
    "sys.path.append('../Pipeline/')"
   ]
  },
  {
   "cell_type": "code",
   "execution_count": 2,
   "id": "54d549ab",
   "metadata": {},
   "outputs": [
    {
     "name": "stderr",
     "output_type": "stream",
     "text": [
      "[nltk_data] Downloading package stopwords to /home/jovyan/nltk_data...\n",
      "[nltk_data]   Package stopwords is already up-to-date!\n",
      "[nltk_data] Downloading package punkt to /home/jovyan/nltk_data...\n",
      "[nltk_data]   Package punkt is already up-to-date!\n"
     ]
    }
   ],
   "source": [
    "from solrclient import *\n",
    "from runeval import runeval\n",
    "from runs_export import *"
   ]
  },
  {
   "cell_type": "code",
   "execution_count": 3,
   "id": "e41a2810",
   "metadata": {
    "tags": []
   },
   "outputs": [
    {
     "data": {
      "text/html": [
       "<div>\n",
       "<style scoped>\n",
       "    .dataframe tbody tr th:only-of-type {\n",
       "        vertical-align: middle;\n",
       "    }\n",
       "\n",
       "    .dataframe tbody tr th {\n",
       "        vertical-align: top;\n",
       "    }\n",
       "\n",
       "    .dataframe thead th {\n",
       "        text-align: right;\n",
       "    }\n",
       "</style>\n",
       "<table border=\"1\" class=\"dataframe\">\n",
       "  <thead>\n",
       "    <tr style=\"text-align: right;\">\n",
       "      <th></th>\n",
       "      <th>qnum</th>\n",
       "      <th>docid</th>\n",
       "      <th>url_x</th>\n",
       "      <th>title</th>\n",
       "      <th>author</th>\n",
       "      <th>url_y</th>\n",
       "      <th>published_date</th>\n",
       "      <th>type</th>\n",
       "      <th>source</th>\n",
       "      <th>content</th>\n",
       "      <th>Query</th>\n",
       "      <th>Key_Words</th>\n",
       "    </tr>\n",
       "  </thead>\n",
       "  <tbody>\n",
       "    <tr>\n",
       "      <th>0</th>\n",
       "      <td>Number: 886</td>\n",
       "      <td>AEQZNZSVT5BGPPUTTJO7SNMOLE</td>\n",
       "      <td>https://www.washingtonpost.com/politics/2019/0...</td>\n",
       "      <td>Trump’s own Defense Department directly contra...</td>\n",
       "      <td>Aaron Blake</td>\n",
       "      <td>/politics/2019/06/05/trump-says-transgender-tr...</td>\n",
       "      <td>NaN</td>\n",
       "      <td>NaN</td>\n",
       "      <td>NaN</td>\n",
       "      <td>The FixTrump’s own Defense Department directly...</td>\n",
       "      <td>['can transgender troops serve', 'can transgen...</td>\n",
       "      <td>['members', 'hormone deficiency', 'transgender...</td>\n",
       "    </tr>\n",
       "  </tbody>\n",
       "</table>\n",
       "</div>"
      ],
      "text/plain": [
       "          qnum                       docid  \\\n",
       "0  Number: 886  AEQZNZSVT5BGPPUTTJO7SNMOLE   \n",
       "\n",
       "                                               url_x  \\\n",
       "0  https://www.washingtonpost.com/politics/2019/0...   \n",
       "\n",
       "                                               title       author  \\\n",
       "0  Trump’s own Defense Department directly contra...  Aaron Blake   \n",
       "\n",
       "                                               url_y  published_date type  \\\n",
       "0  /politics/2019/06/05/trump-says-transgender-tr...             NaN  NaN   \n",
       "\n",
       "  source                                            content  \\\n",
       "0    NaN  The FixTrump’s own Defense Department directly...   \n",
       "\n",
       "                                               Query  \\\n",
       "0  ['can transgender troops serve', 'can transgen...   \n",
       "\n",
       "                                           Key_Words  \n",
       "0  ['members', 'hormone deficiency', 'transgender...  "
      ]
     },
     "execution_count": 3,
     "metadata": {},
     "output_type": "execute_result"
    }
   ],
   "source": [
    "#read query file of 2020\n",
    "query_path = '../Data/Topic/trec2020/topicquery.csv'\n",
    "queries = pd.read_csv(query_path)\n",
    "queries = queries.rename(columns={'num': 'qnum'})\n",
    "queries.head(1)"
   ]
  },
  {
   "cell_type": "code",
   "execution_count": 6,
   "id": "2181839e",
   "metadata": {},
   "outputs": [],
   "source": [
    "def retrieval(resftp,queries):   \n",
    "    rows = 200\n",
    "    for i in range(len(queries)):\n",
    "        client = SolrClient2020(server_port='8983', server_core='WapoV3')\n",
    "        query = queries.loc[i,:]\n",
    "        querytext = query['title']        \n",
    "        client.get_results(query,querytext,rows)\n",
    "        client.export_results(resftp + query['qnum'][-3:]+'.csv')\n",
    "    print(\"Retrieval successed!\")"
   ]
  },
  {
   "cell_type": "code",
   "execution_count": 7,
   "id": "461d5fcf",
   "metadata": {},
   "outputs": [
    {
     "name": "stdout",
     "output_type": "stream",
     "text": [
      "Retrieval successed!\n"
     ]
    }
   ],
   "source": [
    "retrieval('./eval_result_2020/result/',queries)"
   ]
  },
  {
   "cell_type": "code",
   "execution_count": null,
   "id": "6287cb62",
   "metadata": {},
   "outputs": [],
   "source": [
    "# evaluation\n",
    "def evaluate(resfoldername,details=False,Exportmethod = ExportRun2020 ):\n",
    "    resftp = './eval_result_2020/%s/'%(resfoldername)\n",
    "    Exportmethod(resftp,resfoldername)\n",
    "    #runpath = '/home/jovyan/playground/projects/TREC2021/NewsTrack/BaseLine/%s.csv.gz'%(resfoldername)\n",
    "    runpath = '/home/jovyan/playground/projects/TREC2021/NewTrack_Github/Classifier/eval_result_2020/'+ '%s.csv.gz'%(resfoldername)\n",
    "    evalpath = '/home/jovyan/playground/projects/TREC2021/NewTrack_Github/Evaluation/res_topics/%s.trec_eval'%(resfoldername)\n",
    "    if details:\n",
    "        scores = runeval(runpath,evalpath,detail=True)\n",
    "        return scores\n",
    "    else:\n",
    "        runeval(runpath,evalpath)\n",
    "\n",
    "# evaluate(\"result\")\n",
    "scores = evaluate(\"result\",details=True)\n",
    "scores"
   ]
  },
  {
   "cell_type": "code",
   "execution_count": null,
   "id": "bdba2c6f",
   "metadata": {},
   "outputs": [],
   "source": []
  },
  {
   "cell_type": "code",
   "execution_count": null,
   "id": "daaedc79",
   "metadata": {},
   "outputs": [],
   "source": []
  },
  {
   "cell_type": "code",
   "execution_count": 6,
   "id": "273c5e30",
   "metadata": {
    "tags": []
   },
   "outputs": [
    {
     "name": "stdout",
     "output_type": "stream",
     "text": [
      "Got 50 result files\n"
     ]
    },
    {
     "name": "stderr",
     "output_type": "stream",
     "text": [
      "/home/jovyan/playground/projects/TREC2021/NewsTrack/temporal_classifier/runs_export.py:62: SettingWithCopyWarning: \n",
      "A value is trying to be set on a copy of a slice from a DataFrame.\n",
      "Try using .loc[row_indexer,col_indexer] = value instead\n",
      "\n",
      "See the caveats in the documentation: https://pandas.pydata.org/pandas-docs/stable/user_guide/indexing.html#returning-a-view-versus-a-copy\n",
      "  rundf['runtag'] = resname.replace(\".csv\",\"\")\n"
     ]
    },
    {
     "name": "stdout",
     "output_type": "stream",
     "text": [
      "Total length is : 5000\n",
      "quick run result look:\n",
      "    qnum queryid                          id  rank  FinalscorewT        runtag\n",
      "0   935      Q0  N2HKC4F3GRHT3DFUG7AJLOXO2M     1       1.00000  TKB48_simple\n",
      "1   935      Q0  DCGLPC5PBVD3LIM7YBCMWXFHNA     2       0.98553  TKB48_simple\n",
      "Doing Evaluation ...\n",
      "cd /home/jovyan/playground/projects/TREC2021/Evaluation_NewsTrack/scripts && python eval-background.py --qrels /home/jovyan/playground/projects/TREC2021/NewsTrack2020/qrels.background /home/jovyan/playground/projects/TREC2021/NewsTrack/temporal_classifier/TKB48_simple.csv.gz /home/jovyan/playground/projects/TREC2021/Evaluation_NewsTrack/res_topics/TepoClfrun1.trec_eval\n"
     ]
    }
   ],
   "source": [
    "#export baseline run2\n",
    "resftp = '/home/jovyan/playground/projects/TREC2021/NewsTrack/temporal_classifier/result/'\n",
    "qrelspath = '/home/jovyan/playground/projects/TREC2021/NewsTrack2020/qrels.background'\n",
    "ExportRun(resftp,\"TKB48_simple.csv\")\n",
    "runpath = '/home/jovyan/playground/projects/TREC2021/NewsTrack/temporal_classifier/TKB48_simple.csv.gz'\n",
    "evalpath = '/home/jovyan/playground/projects/TREC2021/Evaluation_NewsTrack/res_topics/TepoClfrun1.trec_eval'\n",
    "runevalwithqrels(qrelspath,runpath,evalpath)"
   ]
  },
  {
   "cell_type": "code",
   "execution_count": 5,
   "id": "ea603ac5",
   "metadata": {},
   "outputs": [
    {
     "name": "stdout",
     "output_type": "stream",
     "text": [
      "Got 50 result files\n"
     ]
    },
    {
     "name": "stderr",
     "output_type": "stream",
     "text": [
      "/home/jovyan/playground/projects/TREC2021/NewsTrack/temporal_classifier/runs_export.py:102: SettingWithCopyWarning: \n",
      "A value is trying to be set on a copy of a slice from a DataFrame.\n",
      "Try using .loc[row_indexer,col_indexer] = value instead\n",
      "\n",
      "See the caveats in the documentation: https://pandas.pydata.org/pandas-docs/stable/user_guide/indexing.html#returning-a-view-versus-a-copy\n",
      "  rundf['runtag'] = resname.replace(\".csv\",\"\")\n"
     ]
    },
    {
     "name": "stdout",
     "output_type": "stream",
     "text": [
      "25 topics have no publish date.\n",
      "Total length is : 5000\n",
      "quick run result look:\n",
      "    qnum queryid                          id  rank  FinalscorewT      runtag\n",
      "0   935      Q0  N2HKC4F3GRHT3DFUG7AJLOXO2M     1       1.00000  TKB48_Temp\n",
      "1   935      Q0  DCGLPC5PBVD3LIM7YBCMWXFHNA     2       0.98553  TKB48_Temp\n",
      "Doing Evaluation ...\n",
      "cd /home/jovyan/playground/projects/TREC2021/Evaluation_NewsTrack/scripts && python eval-background.py --qrels /home/jovyan/playground/projects/TREC2021/NewsTrack2020/qrels.background /home/jovyan/playground/projects/TREC2021/NewsTrack/temporal_classifier/TKB48_Temp.csv.gz /home/jovyan/playground/projects/TREC2021/Evaluation_NewsTrack/res_topics/TepoClfrun2.trec_eval\n"
     ]
    }
   ],
   "source": [
    "#export baseline tempo\n",
    "resftp = '/home/jovyan/playground/projects/TREC2021/NewsTrack/temporal_classifier/result/'\n",
    "qrelspath = '/home/jovyan/playground/projects/TREC2021/NewsTrack2020/qrels.background'\n",
    "ExportRunTemp(resftp,queries,\"TKB48_Temp.csv\")\n",
    "runpath = '/home/jovyan/playground/projects/TREC2021/NewsTrack/temporal_classifier/TKB48_Temp.csv.gz'\n",
    "evalpath = '/home/jovyan/playground/projects/TREC2021/Evaluation_NewsTrack/res_topics/TepoClfrun2.trec_eval'\n",
    "runevalwithqrels(qrelspath,runpath,evalpath)"
   ]
  },
  {
   "cell_type": "code",
   "execution_count": 4,
   "id": "59af0800",
   "metadata": {},
   "outputs": [
    {
     "data": {
      "text/html": [
       "<div>\n",
       "<style scoped>\n",
       "    .dataframe tbody tr th:only-of-type {\n",
       "        vertical-align: middle;\n",
       "    }\n",
       "\n",
       "    .dataframe tbody tr th {\n",
       "        vertical-align: top;\n",
       "    }\n",
       "\n",
       "    .dataframe thead th {\n",
       "        text-align: right;\n",
       "    }\n",
       "</style>\n",
       "<table border=\"1\" class=\"dataframe\">\n",
       "  <thead>\n",
       "    <tr style=\"text-align: right;\">\n",
       "      <th></th>\n",
       "      <th>qnum</th>\n",
       "      <th>id</th>\n",
       "      <th>title</th>\n",
       "      <th>author</th>\n",
       "      <th>published_date</th>\n",
       "      <th>content</th>\n",
       "      <th>Query</th>\n",
       "      <th>keywords</th>\n",
       "      <th>originalrank</th>\n",
       "      <th>BM25_score</th>\n",
       "      <th>source</th>\n",
       "    </tr>\n",
       "  </thead>\n",
       "  <tbody>\n",
       "    <tr>\n",
       "      <th>0</th>\n",
       "      <td>936</td>\n",
       "      <td>f831cae6-bfa4-11e1-9ce8-ff26651238d0</td>\n",
       "      <td>Nora Ephron, prolific author and screenwriter,...</td>\n",
       "      <td>Adam Bernstein</td>\n",
       "      <td>1340756064000</td>\n",
       "      <td>ObituariesNora Ephron, prolific author and scr...</td>\n",
       "      <td>['what movie did nora ephron write her memoir ...</td>\n",
       "      <td>['author', 'career', 'share', 'movie business'...</td>\n",
       "      <td>1</td>\n",
       "      <td>21.384777</td>\n",
       "      <td>The Washington Post</td>\n",
       "    </tr>\n",
       "  </tbody>\n",
       "</table>\n",
       "</div>"
      ],
      "text/plain": [
       "   qnum                                    id  \\\n",
       "0   936  f831cae6-bfa4-11e1-9ce8-ff26651238d0   \n",
       "\n",
       "                                               title          author  \\\n",
       "0  Nora Ephron, prolific author and screenwriter,...  Adam Bernstein   \n",
       "\n",
       "  published_date                                            content  \\\n",
       "0  1340756064000  ObituariesNora Ephron, prolific author and scr...   \n",
       "\n",
       "                                               Query  \\\n",
       "0  ['what movie did nora ephron write her memoir ...   \n",
       "\n",
       "                                            keywords  originalrank  \\\n",
       "0  ['author', 'career', 'share', 'movie business'...             1   \n",
       "\n",
       "   BM25_score               source  \n",
       "0   21.384777  The Washington Post  "
      ]
     },
     "execution_count": 4,
     "metadata": {},
     "output_type": "execute_result"
    }
   ],
   "source": [
    "resftp = '/home/jovyan/playground/projects/TREC2021/NewsTrack/BaseLine/result_base/'\n",
    "#search with Desc within the field kw,pdqueries\n",
    "rows = 200\n",
    "for i in range(len(queries)):\n",
    "    client = SolrClient() #default server core\n",
    "    query = queries.loc[i,:]\n",
    "    querytext = query['desc']\n",
    "    client.get_results(query,querytext,rows)\n",
    "    client.export_results(resftp + query['qnum'][-3:]+'.csv')\n",
    "rs = pd.read_csv(resftp+'/936.csv')\n",
    "rs.head(1)"
   ]
  },
  {
   "cell_type": "code",
   "execution_count": 5,
   "id": "8bb1eb64",
   "metadata": {},
   "outputs": [
    {
     "name": "stdout",
     "output_type": "stream",
     "text": [
      "Got 51 result files\n"
     ]
    },
    {
     "name": "stderr",
     "output_type": "stream",
     "text": [
      "/home/jovyan/playground/projects/TREC2021/NewsTrack/BaseLine/runs_export.py:48: SettingWithCopyWarning: \n",
      "A value is trying to be set on a copy of a slice from a DataFrame.\n",
      "Try using .loc[row_indexer,col_indexer] = value instead\n",
      "\n",
      "See the caveats in the documentation: https://pandas.pydata.org/pandas-docs/stable/user_guide/indexing.html#returning-a-view-versus-a-copy\n",
      "  rundf['runtag'] = resname.replace(\".csv\",\"\")\n"
     ]
    },
    {
     "name": "stdout",
     "output_type": "stream",
     "text": [
      "Total length is : 5100\n",
      "quick run result look:\n",
      "    qnum queryid                                    id  rank  FinalscorewT  \\\n",
      "0   986      Q0  c4654f54-2f91-11e3-8906-3daa2bcde110     1      1.000000   \n",
      "1   986      Q0            5HR3G7AVHUI6VEIQHM2M4HMSWE     2      0.891154   \n",
      "\n",
      "        runtag  \n",
      "0  TKB48_whole  \n",
      "1  TKB48_whole  \n",
      "Doing Evaluation ...\n",
      "cd /home/jovyan/playground/projects/TREC2021/Evaluation_NewsTrack/scripts && python eval-background.py /home/jovyan/playground/projects/TREC2021/NewsTrack/BaseLine/TKB48_whole.csv.gz /home/jovyan/playground/projects/TREC2021/Evaluation_NewsTrack/res_topics/baserun1.trec_eval\n"
     ]
    }
   ],
   "source": [
    "#export baseline run1\n",
    "resftp = '/home/jovyan/playground/projects/TREC2021/NewsTrack/BaseLine/result_base/'\n",
    "ExportRun(resftp,\"TKB48_whole.csv\")\n",
    "runpath = '/home/jovyan/playground/projects/TREC2021/NewsTrack/BaseLine/TKB48_whole.csv.gz'\n",
    "evalpath = '/home/jovyan/playground/projects/TREC2021/Evaluation_NewsTrack/res_topics/baserun1.trec_eval'\n",
    "runeval(runpath,evalpath)"
   ]
  },
  {
   "cell_type": "markdown",
   "id": "ac6a5ba6",
   "metadata": {},
   "source": [
    "cd ~/playground/projects/TREC2021/Evaluation_NewsTrack/scripts"
   ]
  },
  {
   "cell_type": "markdown",
   "id": "48ad8ded",
   "metadata": {},
   "source": [
    "python eval-background.py /home/jovyan/playground/projects/TREC2021/NewsTrack/rerank/TKB48_Run1_DTQ.csv.gz /home/jovyan/playground/projects/TREC2021/Evaluation_NewsTrack/results2021submit/Run1.txt"
   ]
  },
  {
   "cell_type": "code",
   "execution_count": 4,
   "id": "b7bb21ec",
   "metadata": {},
   "outputs": [
    {
     "name": "stdout",
     "output_type": "stream",
     "text": [
      "Got 51 result files\n",
      "Reranking on topic desc and doc contents...........\n"
     ]
    },
    {
     "name": "stderr",
     "output_type": "stream",
     "text": [
      "/opt/conda/lib/python3.8/site-packages/transformers/tokenization_utils_base.py:2227: UserWarning: `max_length` is ignored when `padding`=`True`.\n",
      "  warnings.warn(\"`max_length` is ignored when `padding`=`True`.\")\n",
      "/home/jovyan/playground/projects/TREC2021/NewsTrack/BaseLine/runs_export.py:139: SettingWithCopyWarning: \n",
      "A value is trying to be set on a copy of a slice from a DataFrame.\n",
      "Try using .loc[row_indexer,col_indexer] = value instead\n",
      "\n",
      "See the caveats in the documentation: https://pandas.pydata.org/pandas-docs/stable/user_guide/indexing.html#returning-a-view-versus-a-copy\n",
      "  rundf['runtag'] = resname.replace(\".csv\",\"\")\n"
     ]
    },
    {
     "name": "stdout",
     "output_type": "stream",
     "text": [
      "Total length is : 5100\n",
      "Quick run result look:\n",
      "     qnum queryid                                id  rank  Finalscore  \\\n",
      "1    986      Q0        5HR3G7AVHUI6VEIQHM2M4HMSWE     1    1.583892   \n",
      "58   986      Q0  86d2e7c4c9cd8d5c4a19248c2d48243b     2    1.582347   \n",
      "\n",
      "         runtag  \n",
      "1   TKB_WholeRR  \n",
      "58  TKB_WholeRR  \n",
      "Export TKB_WholeRR.csv.gz done, Please check your folder.\n",
      "Doing Evaluation ...\n",
      "cd /home/jovyan/playground/projects/TREC2021/Evaluation_NewsTrack/scripts && python eval-background.py /home/jovyan/playground/projects/TREC2021/NewsTrack/BaseLine/TKB_WholeRR.csv.gz /home/jovyan/playground/projects/TREC2021/Evaluation_NewsTrack/res_topics/baserun3.trec_eval\n"
     ]
    }
   ],
   "source": [
    "#export baseline run3\n",
    "#search with Desc within the field kw,pdqueries\n",
    "#rerank on above\n",
    "resultftp = '/home/jovyan/playground/projects/TREC2021/NewsTrack/BaseLine/result_base/'\n",
    "ExportRerankRun_GPU(resultftp,\"TKB_WholeRR.csv\")\n",
    "runpath = '/home/jovyan/playground/projects/TREC2021/NewsTrack/BaseLine/TKB_WholeRR.csv.gz'\n",
    "evalpath = '/home/jovyan/playground/projects/TREC2021/Evaluation_NewsTrack/res_topics/baserun3.trec_eval'\n",
    "runeval(runpath,evalpath)"
   ]
  },
  {
   "cell_type": "code",
   "execution_count": 4,
   "id": "dde5e323",
   "metadata": {},
   "outputs": [
    {
     "name": "stdout",
     "output_type": "stream",
     "text": [
      "Got 51 result files\n",
      "Reranking on topic desc and doc contents...........\n",
      "Reranking on topic desc and doc keywords...........\n"
     ]
    },
    {
     "name": "stderr",
     "output_type": "stream",
     "text": [
      "/opt/conda/lib/python3.8/site-packages/transformers/tokenization_utils_base.py:2227: UserWarning: `max_length` is ignored when `padding`=`True`.\n",
      "  warnings.warn(\"`max_length` is ignored when `padding`=`True`.\")\n",
      "/home/jovyan/playground/projects/TREC2021/NewsTrack/BaseLine/runs_export.py:191: SettingWithCopyWarning: \n",
      "A value is trying to be set on a copy of a slice from a DataFrame.\n",
      "Try using .loc[row_indexer,col_indexer] = value instead\n",
      "\n",
      "See the caveats in the documentation: https://pandas.pydata.org/pandas-docs/stable/user_guide/indexing.html#returning-a-view-versus-a-copy\n",
      "  rundf['runtag'] = resname.replace(\".csv\",\"\")\n"
     ]
    },
    {
     "name": "stdout",
     "output_type": "stream",
     "text": [
      "Total length is : 5100\n",
      "Quick run result look:\n",
      "     qnum queryid                                    id  rank  Finalscore  \\\n",
      "14   986      Q0  2e510f26-5b92-11e3-a49b-90a0e156254b     1    0.947999   \n",
      "58   986      Q0      86d2e7c4c9cd8d5c4a19248c2d48243b     2    0.870182   \n",
      "\n",
      "           runtag  \n",
      "14  TKB_WholeRRkw  \n",
      "58  TKB_WholeRRkw  \n",
      "Export TKB_WholeRRkw.csv.gz done, Please check your folder.\n",
      "Doing Evaluation ...\n",
      "cd /home/jovyan/playground/projects/TREC2021/Evaluation_NewsTrack/scripts && python eval-background.py /home/jovyan/playground/projects/TREC2021/NewsTrack/BaseLine/TKB_WholeRRkw.csv.gz /home/jovyan/playground/projects/TREC2021/Evaluation_NewsTrack/res_topics/baserun4.trec_eval\n"
     ]
    }
   ],
   "source": [
    "#export baseline run4\n",
    "#search with Desc within the field kw,pdqueries\n",
    "#rerank on above\n",
    "resultftp = '/home/jovyan/playground/projects/TREC2021/NewsTrack/BaseLine/result_base/'\n",
    "ExportRerankRunV2_GPU(resultftp,\"TKB_WholeRRkw.csv\")\n",
    "time.sleep(10)\n",
    "runpath = '/home/jovyan/playground/projects/TREC2021/NewsTrack/BaseLine/TKB_WholeRRkw.csv.gz'\n",
    "evalpath = '/home/jovyan/playground/projects/TREC2021/Evaluation_NewsTrack/res_topics/baserun4.trec_eval'\n",
    "runeval(runpath,evalpath)"
   ]
  },
  {
   "cell_type": "code",
   "execution_count": null,
   "id": "1fa576c0",
   "metadata": {},
   "outputs": [],
   "source": []
  }
 ],
 "metadata": {
  "kernelspec": {
   "display_name": "Python 3",
   "language": "python",
   "name": "python3"
  },
  "language_info": {
   "codemirror_mode": {
    "name": "ipython",
    "version": 3
   },
   "file_extension": ".py",
   "mimetype": "text/x-python",
   "name": "python",
   "nbconvert_exporter": "python",
   "pygments_lexer": "ipython3",
   "version": "3.8.8"
  }
 },
 "nbformat": 4,
 "nbformat_minor": 5
}
