{
 "cells": [
  {
   "cell_type": "code",
   "execution_count": 1,
   "metadata": {},
   "outputs": [],
   "source": [
    "import os\n",
    "import re\n",
    "import pandas as pd\n",
    "import numpy as np\n",
    "import xml.etree.ElementTree as ET "
   ]
  },
  {
   "cell_type": "code",
   "execution_count": 2,
   "metadata": {},
   "outputs": [],
   "source": [
    "topicfile = '/home/jovyan/playground/projects/TREC2021/NewTrack_Github/Data/Topic/Temporalia-1/NTCIR-11TIRTopicsFormalRun.txt'"
   ]
  },
  {
   "cell_type": "code",
   "execution_count": 5,
   "metadata": {},
   "outputs": [],
   "source": [
    "with open(topicfile,\"r+\") as f:\n",
    "    content = f.read()\n",
    "#     content = content.replace(\"NTCIR-11 Temporalia TIR Subtask\",\"\")\n",
    "#     content = content.replace(\"Topic dataset for Formal Run\",\"\")\n",
    "#     content = content.replace(\"Last modified: May 08, 2014 GMT+9\",\"\")   \n",
    "    content = content.replace(\"<data>\",\"\")\n",
    "    content = content.replace(\"</data>\",\"\")\n",
    "    f.seek(0,0)\n",
    "    f.write(\"<data>\\n\" + content+ \"\\n</data>\")\n",
    "\n",
    "tree = ET.parse(topicfile)\n",
    "root = tree.getroot()"
   ]
  },
  {
   "cell_type": "code",
   "execution_count": 6,
   "metadata": {},
   "outputs": [],
   "source": [
    "def savetocsv(filename):\n",
    "    query_id=[]\n",
    "    query_text=[]\n",
    "    query_type=[]\n",
    "    query_topic=[]\n",
    "    query_issue_time=[]\n",
    "    \n",
    "    for i in range(50):\n",
    "        for a in range(4):\n",
    "            query_topic.append(root[i][1].text)\n",
    "            query_issue_time.append(root[i][3].text)\n",
    "            query_id.append(root[i][4][a].attrib[\"id\"])\n",
    "            query_type.append(root[i][4][a].attrib[\"type\"])\n",
    "            query_text.append(root[i][4][a].text) \n",
    "    \n",
    "    print(len(query_id),len(query_text),len(query_type),len(query_topic),len(query_issue_time))\n",
    "    \n",
    "    dict = {'qid': query_id, 'qtopic': query_topic, 'qtype':query_type,'qtime': query_issue_time,'query': query_text} \n",
    "    df = pd.DataFrame(dict)\n",
    "    df.to_csv(filename, index=False)"
   ]
  },
  {
   "cell_type": "code",
   "execution_count": 7,
   "metadata": {},
   "outputs": [
    {
     "name": "stdout",
     "output_type": "stream",
     "text": [
      "200 200 200 200 200\n"
     ]
    }
   ],
   "source": [
    "savetocsv('./query.csv')"
   ]
  },
  {
   "cell_type": "code",
   "execution_count": null,
   "metadata": {},
   "outputs": [],
   "source": []
  }
 ],
 "metadata": {
  "kernelspec": {
   "display_name": "Python 3",
   "language": "python",
   "name": "python3"
  },
  "language_info": {
   "codemirror_mode": {
    "name": "ipython",
    "version": 3
   },
   "file_extension": ".py",
   "mimetype": "text/x-python",
   "name": "python",
   "nbconvert_exporter": "python",
   "pygments_lexer": "ipython3",
   "version": "3.8.8"
  }
 },
 "nbformat": 4,
 "nbformat_minor": 4
}
