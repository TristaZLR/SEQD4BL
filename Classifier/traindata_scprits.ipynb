{
 "cells": [
  {
   "cell_type": "markdown",
   "id": "ef537e89",
   "metadata": {},
   "source": [
    "#### Make sure your solr sever is on\n",
    "#### Core of washington Post version 3 need to be indexed before"
   ]
  },
  {
   "cell_type": "code",
   "execution_count": 18,
   "id": "f31d7a55",
   "metadata": {
    "tags": []
   },
   "outputs": [
    {
     "name": "stderr",
     "output_type": "stream",
     "text": [
      "[nltk_data] Downloading package stopwords to /home/jovyan/nltk_data...\n",
      "[nltk_data]   Package stopwords is already up-to-date!\n",
      "[nltk_data] Downloading package punkt to /home/jovyan/nltk_data...\n",
      "[nltk_data]   Package punkt is already up-to-date!\n"
     ]
    }
   ],
   "source": [
    "import sys,os,time,re,csv,string\n",
    "import pysolr\n",
    "import pandas as pd\n",
    "import numpy as np\n",
    "import math\n",
    "import nltk\n",
    "import torch\n",
    "from tqdm import tqdm\n",
    "from ast import literal_eval\n",
    "from datetime import datetime\n",
    "import nltk\n",
    "import torch\n",
    "from sklearn.utils import shuffle\n",
    "nltk.download('stopwords')\n",
    "nltk.download('punkt')\n",
    "from nltk.corpus import stopwords\n",
    "stop = set(stopwords.words('english'))\n",
    "sys.path.append('../Evaluation/scripts/')\n",
    "sys.path.append('../Pipeline/')"
   ]
  },
  {
   "cell_type": "code",
   "execution_count": 2,
   "id": "daec6a5e",
   "metadata": {},
   "outputs": [
    {
     "name": "stderr",
     "output_type": "stream",
     "text": [
      "[nltk_data] Downloading package stopwords to /home/jovyan/nltk_data...\n",
      "[nltk_data]   Package stopwords is already up-to-date!\n",
      "[nltk_data] Downloading package punkt to /home/jovyan/nltk_data...\n",
      "[nltk_data]   Package punkt is already up-to-date!\n"
     ]
    }
   ],
   "source": [
    "from solrclient import *\n",
    "from runeval import runeval2020\n",
    "from runs_export import *"
   ]
  },
  {
   "cell_type": "code",
   "execution_count": 21,
   "id": "ffefaae4",
   "metadata": {
    "tags": []
   },
   "outputs": [
    {
     "data": {
      "text/html": [
       "<div>\n",
       "<style scoped>\n",
       "    .dataframe tbody tr th:only-of-type {\n",
       "        vertical-align: middle;\n",
       "    }\n",
       "\n",
       "    .dataframe tbody tr th {\n",
       "        vertical-align: top;\n",
       "    }\n",
       "\n",
       "    .dataframe thead th {\n",
       "        text-align: right;\n",
       "    }\n",
       "</style>\n",
       "<table border=\"1\" class=\"dataframe\">\n",
       "  <thead>\n",
       "    <tr style=\"text-align: right;\">\n",
       "      <th></th>\n",
       "      <th>qnum</th>\n",
       "      <th>docid</th>\n",
       "      <th>url_x</th>\n",
       "      <th>title</th>\n",
       "      <th>author</th>\n",
       "      <th>url_y</th>\n",
       "      <th>published_date</th>\n",
       "      <th>type</th>\n",
       "      <th>source</th>\n",
       "      <th>content</th>\n",
       "      <th>Query</th>\n",
       "      <th>Key_Words</th>\n",
       "    </tr>\n",
       "  </thead>\n",
       "  <tbody>\n",
       "    <tr>\n",
       "      <th>0</th>\n",
       "      <td>Number: 886</td>\n",
       "      <td>AEQZNZSVT5BGPPUTTJO7SNMOLE</td>\n",
       "      <td>https://www.washingtonpost.com/politics/2019/0...</td>\n",
       "      <td>Trump’s own Defense Department directly contra...</td>\n",
       "      <td>Aaron Blake</td>\n",
       "      <td>/politics/2019/06/05/trump-says-transgender-tr...</td>\n",
       "      <td>NaN</td>\n",
       "      <td>NaN</td>\n",
       "      <td>NaN</td>\n",
       "      <td>The FixTrump’s own Defense Department directly...</td>\n",
       "      <td>['can transgender troops serve', 'can transgen...</td>\n",
       "      <td>['members', 'hormone deficiency', 'transgender...</td>\n",
       "    </tr>\n",
       "  </tbody>\n",
       "</table>\n",
       "</div>"
      ],
      "text/plain": [
       "          qnum                       docid  \\\n",
       "0  Number: 886  AEQZNZSVT5BGPPUTTJO7SNMOLE   \n",
       "\n",
       "                                               url_x  \\\n",
       "0  https://www.washingtonpost.com/politics/2019/0...   \n",
       "\n",
       "                                               title       author  \\\n",
       "0  Trump’s own Defense Department directly contra...  Aaron Blake   \n",
       "\n",
       "                                               url_y  published_date type  \\\n",
       "0  /politics/2019/06/05/trump-says-transgender-tr...             NaN  NaN   \n",
       "\n",
       "  source                                            content  \\\n",
       "0    NaN  The FixTrump’s own Defense Department directly...   \n",
       "\n",
       "                                               Query  \\\n",
       "0  ['can transgender troops serve', 'can transgen...   \n",
       "\n",
       "                                           Key_Words  \n",
       "0  ['members', 'hormone deficiency', 'transgender...  "
      ]
     },
     "execution_count": 21,
     "metadata": {},
     "output_type": "execute_result"
    }
   ],
   "source": [
    "#read query file of 2020\n",
    "query_path = '../Data/Topic/trec2020/topicquery.csv'\n",
    "queries = pd.read_csv(query_path)\n",
    "queries = queries.rename(columns={'num': 'qnum'})\n",
    "queries.head(1)"
   ]
  },
  {
   "cell_type": "code",
   "execution_count": 6,
   "id": "a94a1f7b",
   "metadata": {},
   "outputs": [],
   "source": [
    "def retrieval(resftp,queries):   \n",
    "    rows = 200\n",
    "    for i in range(len(queries)):\n",
    "        client = SolrClient2020(server_port='8983', server_core='WapoV3')\n",
    "        query = queries.loc[i,:]\n",
    "        querytext = query['title']        \n",
    "        client.get_results(query,querytext,rows)\n",
    "        client.export_results(resftp + query['qnum'][-3:]+'.csv')\n",
    "    print(\"Retrieval successed!\")"
   ]
  },
  {
   "cell_type": "code",
   "execution_count": 7,
   "id": "3c1c876e",
   "metadata": {},
   "outputs": [
    {
     "name": "stdout",
     "output_type": "stream",
     "text": [
      "Retrieval successed!\n"
     ]
    }
   ],
   "source": [
    "retrieval('./eval_result_2020/result/',queries)"
   ]
  },
  {
   "cell_type": "code",
   "execution_count": 6,
   "id": "e1e2b21b",
   "metadata": {},
   "outputs": [],
   "source": [
    "# evaluation\n",
    "def evaluate(resfoldername,details=False,Exportmethod = ExportRun2020 ):\n",
    "    resftp = './eval_result_2020/%s/'%(resfoldername)\n",
    "    Exportmethod(resftp,resfoldername)\n",
    "    #runpath = '/home/jovyan/playground/projects/TREC2021/NewsTrack/BaseLine/%s.csv.gz'%(resfoldername)\n",
    "    if Exportmethod == ExportRun2020Temp:\n",
    "        resfoldername += \"temp\"\n",
    "    runpath = '/home/jovyan/playground/projects/TREC2021/NewTrack_Github/Classifier/eval_result_2020/'+ '%s.csv.gz'%(resfoldername)\n",
    "    evalpath = '/home/jovyan/playground/projects/TREC2021/NewTrack_Github/Evaluation/res_topics/%s.trec_eval'%(resfoldername)\n",
    "    if details:\n",
    "        scores = runeval2020(runpath,evalpath,detail=True)\n",
    "        return scores\n",
    "    else:\n",
    "        runeval2020(runpath,evalpath)"
   ]
  },
  {
   "cell_type": "code",
   "execution_count": 5,
   "id": "dfc610da",
   "metadata": {
    "collapsed": true,
    "jupyter": {
     "outputs_hidden": true
    },
    "tags": []
   },
   "outputs": [
    {
     "name": "stdout",
     "output_type": "stream",
     "text": [
      "Got 50 result files\n"
     ]
    },
    {
     "name": "stderr",
     "output_type": "stream",
     "text": [
      "../Pipeline/runs_export.py:73: SettingWithCopyWarning: \n",
      "A value is trying to be set on a copy of a slice from a DataFrame.\n",
      "Try using .loc[row_indexer,col_indexer] = value instead\n",
      "\n",
      "See the caveats in the documentation: https://pandas.pydata.org/pandas-docs/stable/user_guide/indexing.html#returning-a-view-versus-a-copy\n",
      "  rundf['runtag'] = resname.replace(\".csv\",\"\")\n"
     ]
    },
    {
     "name": "stdout",
     "output_type": "stream",
     "text": [
      "Total length is : 5000\n",
      "Doing Evaluation ...\n",
      "cd /home/jovyan/playground/projects/TREC2021/NewTrack_Github/Evaluation/scripts && python eval-background.py --qrels /home/jovyan/playground/projects/TREC2021/NewTrack_Github/Evaluation/eval/2020/qrels.background /home/jovyan/playground/projects/TREC2021/NewTrack_Github/Classifier/eval_result_2020/result.csv.gz /home/jovyan/playground/projects/TREC2021/NewTrack_Github/Evaluation/res_topics/result.trec_eval\n",
      "trec.eval file has been save to /home/jovyan/playground/projects/TREC2021/NewTrack_Github/Evaluation/res_topics/result.trec_eval\n"
     ]
    },
    {
     "data": {
      "text/plain": [
       "[['ndcg_cut_5', '886', '0.4122'],\n",
       " ['ndcg_cut_5', '887', '0.6362'],\n",
       " ['ndcg_cut_5', '888', '0.0000'],\n",
       " ['ndcg_cut_5', '889', '0.4778'],\n",
       " ['ndcg_cut_5', '890', '0.4024'],\n",
       " ['ndcg_cut_5', '891', '0.2844'],\n",
       " ['ndcg_cut_5', '892', '0.3187'],\n",
       " ['ndcg_cut_5', '893', '0.2140'],\n",
       " ['ndcg_cut_5', '894', '0.3097'],\n",
       " ['ndcg_cut_5', '895', '0.2926'],\n",
       " ['ndcg_cut_5', '896', '0.3543'],\n",
       " ['ndcg_cut_5', '897', '1.0000'],\n",
       " ['ndcg_cut_5', '898', '0.3955'],\n",
       " ['ndcg_cut_5', '899', '0.7322'],\n",
       " ['ndcg_cut_5', '900', '0.3066'],\n",
       " ['ndcg_cut_5', '901', '0.0000'],\n",
       " ['ndcg_cut_5', '902', '0.0000'],\n",
       " ['ndcg_cut_5', '903', '0.0689'],\n",
       " ['ndcg_cut_5', '904', '0.0980'],\n",
       " ['ndcg_cut_5', '905', '0.0000'],\n",
       " ['ndcg_cut_5', '906', '0.3322'],\n",
       " ['ndcg_cut_5', '907', '0.0000'],\n",
       " ['ndcg_cut_5', '908', '0.0000'],\n",
       " ['ndcg_cut_5', '909', '0.6578'],\n",
       " ['ndcg_cut_5', '910', '0.1520'],\n",
       " ['ndcg_cut_5', '911', '0.8614'],\n",
       " ['ndcg_cut_5', '912', '0.0000'],\n",
       " ['ndcg_cut_5', '913', '0.2676'],\n",
       " ['ndcg_cut_5', '914', '0.3016'],\n",
       " ['ndcg_cut_5', '915', '0.3686'],\n",
       " ['ndcg_cut_5', '916', '0.0535'],\n",
       " ['ndcg_cut_5', '918', '0.2184'],\n",
       " ['ndcg_cut_5', '919', '0.4984'],\n",
       " ['ndcg_cut_5', '920', '0.0000'],\n",
       " ['ndcg_cut_5', '921', '0.0984'],\n",
       " ['ndcg_cut_5', '922', '0.7773'],\n",
       " ['ndcg_cut_5', '923', '0.2234'],\n",
       " ['ndcg_cut_5', '924', '0.0000'],\n",
       " ['ndcg_cut_5', '925', '0.5914'],\n",
       " ['ndcg_cut_5', '926', '0.2747'],\n",
       " ['ndcg_cut_5', '927', '0.9201'],\n",
       " ['ndcg_cut_5', '928', '0.8308'],\n",
       " ['ndcg_cut_5', '929', '0.2946'],\n",
       " ['ndcg_cut_5', '930', '0.7437'],\n",
       " ['ndcg_cut_5', '931', '1.0000'],\n",
       " ['ndcg_cut_5', '932', '0.2575'],\n",
       " ['ndcg_cut_5', '933', '0.1243'],\n",
       " ['ndcg_cut_5', '934', '0.3742'],\n",
       " ['ndcg_cut_5', '935', '0.2533'],\n",
       " ['ndcg_cut_5', 'all', '0.3424']]"
      ]
     },
     "execution_count": 5,
     "metadata": {},
     "output_type": "execute_result"
    }
   ],
   "source": [
    "# evaluate(\"result\")\n",
    "scores = evaluate(\"result\",details=True)\n",
    "scores"
   ]
  },
  {
   "cell_type": "code",
   "execution_count": 8,
   "id": "ad468eaf",
   "metadata": {
    "collapsed": true,
    "jupyter": {
     "outputs_hidden": true
    },
    "tags": []
   },
   "outputs": [
    {
     "name": "stdout",
     "output_type": "stream",
     "text": [
      "Got 50 result files\n",
      "25 topics have no publish date.\n",
      "Total length is : 5000\n",
      "Doing Evaluation ...\n",
      "cd /home/jovyan/playground/projects/TREC2021/NewTrack_Github/Evaluation/scripts && python eval-background.py --qrels /home/jovyan/playground/projects/TREC2021/NewTrack_Github/Evaluation/eval/2020/qrels.background /home/jovyan/playground/projects/TREC2021/NewTrack_Github/Classifier/eval_result_2020/resulttemp.csv.gz /home/jovyan/playground/projects/TREC2021/NewTrack_Github/Evaluation/res_topics/resulttemp.trec_eval\n",
      "trec.eval file has been save to /home/jovyan/playground/projects/TREC2021/NewTrack_Github/Evaluation/res_topics/resulttemp.trec_eval\n"
     ]
    },
    {
     "data": {
      "text/plain": [
       "[['ndcg_cut_5', '886', '0.4122'],\n",
       " ['ndcg_cut_5', '887', '0.6362'],\n",
       " ['ndcg_cut_5', '888', '0.0000'],\n",
       " ['ndcg_cut_5', '889', '0.4492'],\n",
       " ['ndcg_cut_5', '890', '0.4024'],\n",
       " ['ndcg_cut_5', '891', '0.2299'],\n",
       " ['ndcg_cut_5', '892', '0.3187'],\n",
       " ['ndcg_cut_5', '893', '0.6844'],\n",
       " ['ndcg_cut_5', '894', '0.2719'],\n",
       " ['ndcg_cut_5', '895', '0.4741'],\n",
       " ['ndcg_cut_5', '896', '0.2712'],\n",
       " ['ndcg_cut_5', '897', '0.4704'],\n",
       " ['ndcg_cut_5', '898', '0.0000'],\n",
       " ['ndcg_cut_5', '899', '0.7167'],\n",
       " ['ndcg_cut_5', '900', '0.9197'],\n",
       " ['ndcg_cut_5', '901', '0.0000'],\n",
       " ['ndcg_cut_5', '902', '0.0000'],\n",
       " ['ndcg_cut_5', '903', '0.1924'],\n",
       " ['ndcg_cut_5', '904', '0.0980'],\n",
       " ['ndcg_cut_5', '905', '0.0000'],\n",
       " ['ndcg_cut_5', '906', '0.3761'],\n",
       " ['ndcg_cut_5', '907', '0.0000'],\n",
       " ['ndcg_cut_5', '908', '0.0183'],\n",
       " ['ndcg_cut_5', '909', '0.6578'],\n",
       " ['ndcg_cut_5', '910', '0.0760'],\n",
       " ['ndcg_cut_5', '911', '0.8614'],\n",
       " ['ndcg_cut_5', '912', '0.0000'],\n",
       " ['ndcg_cut_5', '913', '0.2676'],\n",
       " ['ndcg_cut_5', '914', '0.3016'],\n",
       " ['ndcg_cut_5', '915', '0.3686'],\n",
       " ['ndcg_cut_5', '916', '0.2061'],\n",
       " ['ndcg_cut_5', '918', '0.2184'],\n",
       " ['ndcg_cut_5', '919', '0.4984'],\n",
       " ['ndcg_cut_5', '920', '0.0000'],\n",
       " ['ndcg_cut_5', '921', '0.0000'],\n",
       " ['ndcg_cut_5', '922', '0.5924'],\n",
       " ['ndcg_cut_5', '923', '0.2234'],\n",
       " ['ndcg_cut_5', '924', '0.0000'],\n",
       " ['ndcg_cut_5', '925', '0.5711'],\n",
       " ['ndcg_cut_5', '926', '0.2747'],\n",
       " ['ndcg_cut_5', '927', '0.5611'],\n",
       " ['ndcg_cut_5', '928', '0.8603'],\n",
       " ['ndcg_cut_5', '929', '0.2946'],\n",
       " ['ndcg_cut_5', '930', '0.7437'],\n",
       " ['ndcg_cut_5', '931', '0.7083'],\n",
       " ['ndcg_cut_5', '932', '0.2575'],\n",
       " ['ndcg_cut_5', '933', '0.3878'],\n",
       " ['ndcg_cut_5', '934', '0.3742'],\n",
       " ['ndcg_cut_5', '935', '0.2533'],\n",
       " ['ndcg_cut_5', 'all', '0.3367']]"
      ]
     },
     "execution_count": 8,
     "metadata": {},
     "output_type": "execute_result"
    }
   ],
   "source": [
    "scorestmp = evaluate(\"result\",details=True,Exportmethod = ExportRun2020Temp)\n",
    "scorestmp"
   ]
  },
  {
   "cell_type": "code",
   "execution_count": 14,
   "id": "b4501cf9",
   "metadata": {},
   "outputs": [],
   "source": [
    "def get_ongoingtopics(scores,scorestmp):\n",
    "    atemporal = []\n",
    "    temporal = []\n",
    "    for i in range(len(scores)):\n",
    "        if scores[i][2] < scorestmp[i][2]:\n",
    "            if scorestmp[i][1] != 'all':\n",
    "                temporal.append(scorestmp[i][1])\n",
    "        elif scores[i][2] > scorestmp[i][2]:\n",
    "            if scorestmp[i][1] != 'all':\n",
    "                atemporal.append(scorestmp[i][1])\n",
    "    return temporal, atemporal"
   ]
  },
  {
   "cell_type": "code",
   "execution_count": 15,
   "id": "b398aa73",
   "metadata": {},
   "outputs": [],
   "source": [
    "ongoing_topics, other_topics = get_ongoingtopics(scores,scorestmp)"
   ]
  },
  {
   "cell_type": "code",
   "execution_count": 16,
   "id": "0aea1e97",
   "metadata": {},
   "outputs": [
    {
     "data": {
      "text/plain": [
       "['893', '895', '900', '903', '906', '908', '916', '928', '933']"
      ]
     },
     "execution_count": 16,
     "metadata": {},
     "output_type": "execute_result"
    }
   ],
   "source": [
    "ongoing_topics"
   ]
  },
  {
   "cell_type": "code",
   "execution_count": 17,
   "id": "39c75410",
   "metadata": {},
   "outputs": [
    {
     "data": {
      "text/plain": [
       "['889',\n",
       " '891',\n",
       " '894',\n",
       " '896',\n",
       " '897',\n",
       " '898',\n",
       " '899',\n",
       " '910',\n",
       " '921',\n",
       " '922',\n",
       " '925',\n",
       " '927',\n",
       " '931']"
      ]
     },
     "execution_count": 17,
     "metadata": {},
     "output_type": "execute_result"
    }
   ],
   "source": [
    "other_topics"
   ]
  },
  {
   "cell_type": "code",
   "execution_count": 27,
   "id": "eaffe38e",
   "metadata": {},
   "outputs": [],
   "source": [
    "def cons_traindata(query_path,ongoing_topics,other_topics):\n",
    "    topics = pd.read_csv(query_path)\n",
    "    rlistsen,alistsen = [],[]\n",
    "    for i in range(len(topics)):\n",
    "        if topics['num'][i][-3:] in ongoing_topics:\n",
    "            rlistsen.append(topics['title'][i])\n",
    "        elif topics['num'][i][-3:] in other_topics:\n",
    "            alistsen.append(topics['title'][i])\n",
    "            \n",
    "    # load temporalia topics\n",
    "    df_temporalia = pd.read_csv('./query.csv')\n",
    "    atemporal = df_temporalia[df_temporalia['qtype']=='atemporal']\n",
    "    atemporal['label']='0'\n",
    "    atemporal = atemporal[[\"query\",'label']]\n",
    "    recency = df_temporalia[df_temporalia['qtype']=='recency']\n",
    "    recency['label']=\"1\"\n",
    "    recency = recency[[\"query\",'label']]\n",
    "    \n",
    "    \n",
    "    # add topic2020\n",
    "    for sen in rlistsen:\n",
    "        new_row = {'query':sen, 'label':1}\n",
    "        recency = recency.append(new_row, ignore_index=True)\n",
    "    \n",
    "    for sen in alistsen:\n",
    "        new_row = {'query':sen, 'label':0}\n",
    "        atemporal = atemporal.append(new_row, ignore_index=True)\n",
    "        \n",
    "    #create train,test,validate pairs\n",
    "    total = atemporal.append(recency)\n",
    "    total = shuffle(total)\n",
    "    total.rename(columns={'query':'queries'},inplace=True)\n",
    "    test = total.sample(12)\n",
    "    train = total[~total.queries.isin(test.queries)]\n",
    "    total.sample(12).to_csv('valid1.csv',index=False)\n",
    "    test.to_csv('test1.csv',index=False)\n",
    "    train.to_csv('train1.csv',index=False)\n",
    "    print(\"train data created\")"
   ]
  },
  {
   "cell_type": "code",
   "execution_count": 28,
   "id": "6667a03a",
   "metadata": {},
   "outputs": [
    {
     "name": "stdout",
     "output_type": "stream",
     "text": [
      "train data created\n"
     ]
    },
    {
     "name": "stderr",
     "output_type": "stream",
     "text": [
      "<ipython-input-27-7e390042a022>:13: SettingWithCopyWarning: \n",
      "A value is trying to be set on a copy of a slice from a DataFrame.\n",
      "Try using .loc[row_indexer,col_indexer] = value instead\n",
      "\n",
      "See the caveats in the documentation: https://pandas.pydata.org/pandas-docs/stable/user_guide/indexing.html#returning-a-view-versus-a-copy\n",
      "  atemporal['label']='0'\n",
      "<ipython-input-27-7e390042a022>:16: SettingWithCopyWarning: \n",
      "A value is trying to be set on a copy of a slice from a DataFrame.\n",
      "Try using .loc[row_indexer,col_indexer] = value instead\n",
      "\n",
      "See the caveats in the documentation: https://pandas.pydata.org/pandas-docs/stable/user_guide/indexing.html#returning-a-view-versus-a-copy\n",
      "  recency['label']=\"1\"\n"
     ]
    }
   ],
   "source": [
    "cons_traindata(query_path,ongoing_topics,other_topics)"
   ]
  },
  {
   "cell_type": "code",
   "execution_count": null,
   "id": "2dcdf158",
   "metadata": {},
   "outputs": [],
   "source": []
  }
 ],
 "metadata": {
  "kernelspec": {
   "display_name": "Python 3",
   "language": "python",
   "name": "python3"
  },
  "language_info": {
   "codemirror_mode": {
    "name": "ipython",
    "version": 3
   },
   "file_extension": ".py",
   "mimetype": "text/x-python",
   "name": "python",
   "nbconvert_exporter": "python",
   "pygments_lexer": "ipython3",
   "version": "3.8.8"
  }
 },
 "nbformat": 4,
 "nbformat_minor": 5
}
